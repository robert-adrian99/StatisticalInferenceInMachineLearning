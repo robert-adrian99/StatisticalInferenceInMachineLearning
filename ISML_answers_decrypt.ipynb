{
 "nbformat": 4,
 "nbformat_minor": 2,
 "metadata": {
  "language_info": {
   "name": "python",
   "codemirror_mode": {
    "name": "ipython",
    "version": 3
   },
   "version": "3.7.6-final"
  },
  "orig_nbformat": 2,
  "file_extension": ".py",
  "mimetype": "text/x-python",
  "name": "python",
  "npconvert_exporter": "python",
  "pygments_lexer": "ipython3",
  "version": 3,
  "kernelspec": {
   "name": "python37664bitismlconda6f0c095cd5244702906f716f60346828",
   "display_name": "Python 3.7.6 64-bit ('isml': conda)"
  }
 },
 "cells": [
  {
   "cell_type": "code",
   "execution_count": 1,
   "metadata": {},
   "outputs": [],
   "source": [
    "import pickle"
   ]
  },
  {
   "cell_type": "code",
   "execution_count": 2,
   "metadata": {},
   "outputs": [
    {
     "output_type": "stream",
     "name": "stdout",
     "text": "1:\t4\n2:\t1\n3:\t3\n4:\t4\n5:\t4\n6:\t1\n7:\t2\n8:\t0.9421\n10:\t-1.281552\n11:\t2\n12:\t0\n13:\t1.96\n14:\t6.919927969080108\n15:\t6.92\n16:\t0.975\n17:\t0.06613951160730465\n18:\t0.06708596287903189\n19:\t1\n20:\t1\n21:\t3\n22:\t1.6448536269514722\n23:\t3\n24:\t[0.3333333333333333, 1.0]\n25:\t[0.5, 0.7]\n26:\t1\n27:\t[0.504, 0.696]\n28:\t[0.0065, 0.0995]\n29:\t2\n30:\t2\n31:\t3\n32:\t2\n33:\t3\n34:\t2\n35:\t2\n36:\t4\n"
    }
   ],
   "source": [
    "answers = b'\\x80\\x03}q\\x00(K\\x01K\\x04K\\x02K\\x01K\\x03K\\x03K\\x04K\\x04K\\x05K\\x04K\\x06K\\x01K\\x07K\\x02K\\x08G?\\xee%\\xae\\xe61\\xf8\\xa1K\\nG\\xbf\\xf4\\x81<\\xab\\x81\\xf9jK\\x0bK\\x02K\\x0cK\\x00K\\rG?\\xff\\\\(\\xf5\\xc2\\x8f\\\\K\\x0eG@\\x1b\\xae\\x01\\x98\\xf7\\x7f\\xc2K\\x0fG@\\x1b\\xae\\x14z\\xe1G\\xaeK\\x10G?\\xef333333K\\x11G?\\xb0\\xee\\x84\\xdfS\\xa8=K\\x12G?\\xb1,\\x8b\\xb0\\x96\\x0boK\\x13K\\x01K\\x14K\\x01K\\x15K\\x03K\\x16G?\\xfaQR\\tgj\\xbbK\\x17K\\x03K\\x18]q\\x01(G?\\xd5UUUUUUG?\\xf0\\x00\\x00\\x00\\x00\\x00\\x00eK\\x19]q\\x02(G?\\xe0\\x00\\x00\\x00\\x00\\x00\\x00G?\\xe6ffffffeK\\x1aK\\x01K\\x1b]q\\x03(G?\\xe0 \\xc4\\x9b\\xa5\\xe3TG?\\xe6E\\xa1\\xca\\xc0\\x83\\x12eK\\x1c]q\\x04(G?z\\x9f\\xbev\\xc8\\xb49G?\\xb9x\\xd4\\xfd\\xf3\\xb6FeK\\x1dK\\x02K\\x1eK\\x02K\\x1fK\\x03K K\\x02K!K\\x03K\"K\\x02K#K\\x02K$K\\x04u.'\n",
    "s = pickle.loads(answers)\n",
    "for pair in s:\n",
    "    print(str(pair) + \":\\t\" + str(s[pair]))"
   ]
  },
  {
   "cell_type": "code",
   "execution_count": null,
   "metadata": {},
   "outputs": [],
   "source": []
  }
 ]
}